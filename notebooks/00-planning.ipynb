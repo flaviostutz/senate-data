{
 "cells": [
  {
   "cell_type": "markdown",
   "metadata": {
    "deletable": true,
    "editable": true
   },
   "source": [
    "### General info\n",
    "  * API: http://legis.senado.leg.br/dadosabertos/docs/resource_ListaSenadorService.html\n",
    "\n",
    "### Explore general senator data\n",
    "  * http://legis.senado.leg.br/dadosabertos/senador/lista/atual?participacao=t\n",
    "  * Download senator list\n",
    "  * Show number of senators per state/genre\n",
    "  * Show senators per time in role (youngest/oldest)\n",
    "\n",
    "### Download speeches\n",
    "  * http://legis.senado.leg.br/dadosabertos/senador/5529/discursos\n",
    "\n",
    "### Live Senate - future\n",
    "  * Reuniões de comissões em andamento agora\n",
    "  * Discursos pronunciados no dia"
   ]
  },
  {
   "cell_type": "code",
   "execution_count": null,
   "metadata": {
    "collapsed": true,
    "deletable": true,
    "editable": true
   },
   "outputs": [],
   "source": []
  },
  {
   "cell_type": "code",
   "execution_count": null,
   "metadata": {
    "collapsed": true,
    "deletable": true,
    "editable": true
   },
   "outputs": [],
   "source": []
  }
 ],
 "metadata": {
  "kernelspec": {
   "display_name": "Python 3",
   "language": "python",
   "name": "python3"
  },
  "language_info": {
   "codemirror_mode": {
    "name": "ipython",
    "version": 3
   },
   "file_extension": ".py",
   "mimetype": "text/x-python",
   "name": "python",
   "nbconvert_exporter": "python",
   "pygments_lexer": "ipython3",
   "version": "3.4.3"
  }
 },
 "nbformat": 4,
 "nbformat_minor": 2
}
