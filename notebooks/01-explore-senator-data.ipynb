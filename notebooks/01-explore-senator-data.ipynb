{
 "cells": [
  {
   "cell_type": "markdown",
   "metadata": {
    "deletable": true,
    "editable": true
   },
   "source": [
    "### Download senator list from Senado API"
   ]
  },
  {
   "cell_type": "code",
   "execution_count": 32,
   "metadata": {
    "collapsed": false,
    "deletable": true,
    "editable": true
   },
   "outputs": [
    {
     "name": "stdout",
     "output_type": "stream",
     "text": [
      "File output/senators.csv written\n"
     ]
    }
   ],
   "source": [
    "import urllib.request\n",
    "import xml.etree.ElementTree as ET\n",
    "\n",
    "import csv\n",
    "\n",
    "link = \"http://legis.senado.leg.br/dadosabertos/senador/lista/atual?participacao=t\"\n",
    "f = urllib.request.urlopen(link)\n",
    "raw = f.read()\n",
    "root = ET.fromstring(raw)\n",
    "\n",
    "parlamentares = root.find('Parlamentares')\n",
    "with open(\"output/senators.csv\", \"w\", encoding='utf-8') as ofile:\n",
    "    writer = csv.writer(ofile, delimiter=',', quotechar='\"', quoting=csv.QUOTE_ALL)\n",
    "    for parlamentar in parlamentares.iter('Parlamentar'):\n",
    "        id = parlamentar.find('IdentificacaoParlamentar')\n",
    "        row = [ id.find('CodigoParlamentar').text,\n",
    "                id.find('NomeParlamentar').text,\n",
    "                id.find('SexoParlamentar').text,\n",
    "                id.find('SiglaPartidoParlamentar').text,\n",
    "                id.find('UfParlamentar').text\n",
    "              ]\n",
    "#         print(row)\n",
    "        writer.writerow(row)\n",
    "\n",
    "print(\"File output/senators.csv written\")"
   ]
  },
  {
   "cell_type": "code",
   "execution_count": null,
   "metadata": {
    "collapsed": true,
    "deletable": true,
    "editable": true
   },
   "outputs": [],
   "source": []
  }
 ],
 "metadata": {
  "kernelspec": {
   "display_name": "Python 3",
   "language": "python",
   "name": "python3"
  },
  "language_info": {
   "codemirror_mode": {
    "name": "ipython",
    "version": 3
   },
   "file_extension": ".py",
   "mimetype": "text/x-python",
   "name": "python",
   "nbconvert_exporter": "python",
   "pygments_lexer": "ipython3",
   "version": "3.4.3"
  }
 },
 "nbformat": 4,
 "nbformat_minor": 2
}
